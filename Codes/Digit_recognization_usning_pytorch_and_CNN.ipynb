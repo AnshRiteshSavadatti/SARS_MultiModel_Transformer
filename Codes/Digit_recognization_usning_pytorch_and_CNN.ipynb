{
  "nbformat": 4,
  "nbformat_minor": 0,
  "metadata": {
    "colab": {
      "provenance": []
    },
    "kernelspec": {
      "name": "python3",
      "display_name": "Python 3"
    },
    "language_info": {
      "name": "python"
    }
  },
  "cells": [
    {
      "cell_type": "code",
      "source": [
        "import pickle\n"
      ],
      "metadata": {
        "id": "DrTurHp15G3z"
      },
      "execution_count": 3,
      "outputs": []
    },
    {
      "cell_type": "code",
      "execution_count": 31,
      "metadata": {
        "colab": {
          "base_uri": "https://localhost:8080/",
          "height": 423
        },
        "id": "dH0dLYD14sXJ",
        "outputId": "cf894f15-1955-4f5c-bd17-9be80d2d4936"
      },
      "outputs": [
        {
          "output_type": "display_data",
          "data": {
            "text/plain": [
              "<Figure size 640x480 with 1 Axes>"
            ],
            "image/png": "[encoded data removed]"
          },
          "metadata": {}
        },
        {
          "output_type": "stream",
          "name": "stdout",
          "text": [
            "Output: 1\n"
          ]
        }
      ],
      "source": [
        "import torch\n",
        "from torchvision import datasets, transforms\n",
        "import matplotlib.pyplot as plt\n",
        "\n",
        "def load_data():\n",
        "    \"\"\"Load MNIST data using PyTorch's torchvision datasets.\"\"\"\n",
        "\n",
        "    # Define a transform to normalize the data to the range [0, 1] and convert to tensor\n",
        "    transform = transforms.Compose([transforms.ToTensor()])\n",
        "\n",
        "    # Load the MNIST training and test datasets\n",
        "    train_dataset = datasets.MNIST(root='./data', train=True, download=True, transform=transform)\n",
        "    test_dataset = datasets.MNIST(root='./data', train=False, download=True, transform=transform)\n",
        "\n",
        "    # Split training data into training and validation sets\n",
        "    train_data, val_data = torch.utils.data.random_split(train_dataset, [50000, 10000])\n",
        "\n",
        "    return train_data, val_data, test_dataset\n",
        "\n",
        "def display_image_and_output(image_data, label):\n",
        "    \"\"\"Display an MNIST image and print the corresponding digit output.\"\"\"\n",
        "    # Remove batch dimension and convert tensor to numpy array\n",
        "    image = image_data.squeeze().numpy()\n",
        "\n",
        "    # Display the image\n",
        "    plt.imshow(image, cmap='gray')\n",
        "    plt.axis('off')  # Turn off axes for clarity\n",
        "    plt.show()\n",
        "\n",
        "    # Print the corresponding label (digit)\n",
        "    print(f\"Output: {label}\")\n",
        "\n",
        "# Example of how to use the function\n",
        "# Load data and display the first image in the training dataset\n",
        "train_data, val_data, test_data = load_data()\n",
        "\n",
        "# Access the first image and its label\n",
        "first_image_data, first_label = train_data[0]  # First image and label from the training dataset\n",
        "\n",
        "display_image_and_output(first_image_data, first_label)"
      ]
    },
    {
      "cell_type": "code",
      "source": [
        "third_image_data, third_label = train_data[2]  # third image and label from the training dataset\n",
        "\n",
        "# Display the image and the corresponding label\n",
        "display_image_and_output(third_image_data, third_label)"
      ],
      "metadata": {
        "colab": {
          "base_uri": "https://localhost:8080/",
          "height": 423
        },
        "id": "3DocrNda46BB",
        "outputId": "ffb8736a-3d7a-4529-de30-6f36c54d5f00"
      },
      "execution_count": 8,
      "outputs": [
        {
          "output_type": "display_data",
          "data": {
            "text/plain": [
              "<Figure size 640x480 with 1 Axes>"
            ],
            "image/png": "[encoded data removed]"
          },
          "metadata": {}
        },
        {
          "output_type": "stream",
          "name": "stdout",
          "text": [
            "Output: 6\n"
          ]
        }
      ]
    },
    {
      "cell_type": "code",
      "source": [
        "#### Libraries\n",
        "import torch\n",
        "from torchvision import datasets, transforms\n",
        "import matplotlib.pyplot as plt\n",
        "\n",
        "def load_data():\n",
        "    \"\"\"Load MNIST data using PyTorch's torchvision datasets.\"\"\"\n",
        "\n",
        "    # Define a transform to normalize the data to the range [0, 1] and convert to tensor\n",
        "    transform = transforms.Compose([transforms.ToTensor()])\n",
        "\n",
        "    # Load the MNIST test dataset\n",
        "    test_dataset = datasets.MNIST(root='./data', train=False, download=True, transform=transform)\n",
        "\n",
        "    return test_dataset\n",
        "\n",
        "def display_image_and_output(image_data, label):\n",
        "    \"\"\"Display an MNIST image and print the corresponding digit output.\"\"\"\n",
        "    # Remove batch dimension and convert tensor to numpy array\n",
        "    image = image_data.squeeze().numpy()\n",
        "\n",
        "    # Display the image\n",
        "    plt.imshow(image, cmap='gray')\n",
        "    plt.axis('off')  # Turn off axes for clarity\n",
        "    plt.show()\n",
        "\n",
        "    # Print the corresponding label (digit)\n",
        "    print(f\"Output: {label}\")\n",
        "\n",
        "# Example of how to use the function\n",
        "# Load test data\n",
        "test_data = load_data()\n",
        "\n",
        "\n"
      ],
      "metadata": {
        "id": "-F_YCPag6dAs"
      },
      "execution_count": 14,
      "outputs": []
    },
    {
      "cell_type": "code",
      "source": [
        "# Select an image and label from the test dataset\n",
        "test_image_data, test_label = test_data[0]  # First image and label from the test dataset\n",
        "\n",
        "# Display the image and the corresponding label\n",
        "display_image_and_output(test_image_data, test_label)"
      ],
      "metadata": {
        "colab": {
          "base_uri": "https://localhost:8080/",
          "height": 423
        },
        "id": "AWfloRMn60pg",
        "outputId": "a5b03c80-fa5b-4915-e2b1-8334b576bda7"
      },
      "execution_count": 15,
      "outputs": [
        {
          "output_type": "display_data",
          "data": {
            "text/plain": [
              "<Figure size 640x480 with 1 Axes>"
            ],
            "image/png": "[encoded data removed]"
          },
          "metadata": {}
        },
        {
          "output_type": "stream",
          "name": "stdout",
          "text": [
            "Output: 7\n"
          ]
        }
      ]
    },
    {
      "cell_type": "code",
      "source": [
        "#### Libraries\n",
        "import torch\n",
        "import torch.nn as nn\n",
        "import torch.optim as optim\n",
        "from torchvision import datasets, transforms\n",
        "from torch.utils.data import DataLoader\n",
        "import matplotlib.pyplot as plt\n",
        "\n",
        "# Define CNN model\n",
        "class CNN(nn.Module):\n",
        "    def __init__(self):\n",
        "        super(CNN, self).__init__()\n",
        "        # Define convolutional layers\n",
        "        self.conv1 = nn.Conv2d(in_channels=1, out_channels=32, kernel_size=3, padding=1)\n",
        "        self.conv2 = nn.Conv2d(in_channels=32, out_channels=64, kernel_size=3, padding=1)\n",
        "        self.pool = nn.MaxPool2d(kernel_size=2, stride=2)\n",
        "        self.fc1 = nn.Linear(64 * 7 * 7, 128)\n",
        "        self.fc2 = nn.Linear(128, 10)\n",
        "        self.relu = nn.ReLU()\n",
        "\n",
        "    def forward(self, x):\n",
        "        # Convolutional layers with ReLU and MaxPooling\n",
        "        x = self.pool(self.relu(self.conv1(x)))\n",
        "        x = self.pool(self.relu(self.conv2(x)))\n",
        "        x = x.view(-1, 64 * 7 * 7)  # Flatten the tensor for fully connected layers\n",
        "        x = self.relu(self.fc1(x))\n",
        "        x = self.fc2(x)\n",
        "        return x\n",
        "\n",
        "# Load the MNIST data\n",
        "def load_data(batch_size=64):\n",
        "    \"\"\"Load MNIST data using PyTorch's DataLoader.\"\"\"\n",
        "\n",
        "    transform = transforms.Compose([transforms.ToTensor()])\n",
        "\n",
        "    # Load the training and test datasets\n",
        "    train_dataset = datasets.MNIST(root='./data', train=True, download=True, transform=transform)\n",
        "    test_dataset = datasets.MNIST(root='./data', train=False, download=True, transform=transform)\n",
        "\n",
        "    # DataLoaders\n",
        "    train_loader = DataLoader(dataset=train_dataset, batch_size=batch_size, shuffle=True)\n",
        "    test_loader = DataLoader(dataset=test_dataset, batch_size=batch_size, shuffle=False)\n",
        "\n",
        "    return train_loader, test_loader\n",
        "\n",
        "# Train the CNN model\n",
        "def train_model(model, train_loader, criterion, optimizer, num_epochs=5):\n",
        "    \"\"\"Train the CNN model.\"\"\"\n",
        "\n",
        "    train_loss = []\n",
        "    for epoch in range(num_epochs):\n",
        "        running_loss = 0.0\n",
        "        for images, labels in train_loader:\n",
        "            # Zero the parameter gradients\n",
        "            optimizer.zero_grad()\n",
        "\n",
        "            # Forward pass\n",
        "            outputs = model(images)\n",
        "            loss = criterion(outputs, labels)\n",
        "\n",
        "            # Backward pass and optimize\n",
        "            loss.backward()\n",
        "            optimizer.step()\n",
        "\n",
        "            running_loss += loss.item()\n",
        "\n",
        "        # Average loss for the epoch\n",
        "        avg_loss = running_loss / len(train_loader)\n",
        "        train_loss.append(avg_loss)\n",
        "        print(f'Epoch [{epoch+1}/{num_epochs}], Loss: {avg_loss:.4f}')\n",
        "\n",
        "    return train_loss\n",
        "\n",
        "# Test the CNN model\n",
        "def test_model(model, test_loader):\n",
        "    \"\"\"Test the CNN model and return accuracy.\"\"\"\n",
        "\n",
        "    correct = 0\n",
        "    total = 0\n",
        "    with torch.no_grad():\n",
        "        for images, labels in test_loader:\n",
        "            outputs = model(images)\n",
        "            _, predicted = torch.max(outputs.data, 1)\n",
        "            total += labels.size(0)\n",
        "            correct += (predicted == labels).sum().item()\n",
        "\n",
        "    accuracy = 100 * correct / total\n",
        "    print(f'Test Accuracy: {accuracy:.2f}%')\n",
        "    return accuracy\n",
        "\n",
        "# Plot the training loss\n",
        "def plot_loss(train_loss):\n",
        "    \"\"\"Plot the training loss over epochs.\"\"\"\n",
        "    plt.plot(train_loss, label='Training Loss')\n",
        "    plt.xlabel('Epochs')\n",
        "    plt.ylabel('Loss')\n",
        "    plt.title('Training Loss Over Time')\n",
        "    plt.legend()\n",
        "    plt.show()\n",
        "\n",
        "# Main execution\n",
        "if __name__ == \"__main__\":\n",
        "    # Hyperparameters\n",
        "    num_epochs = 5\n",
        "    learning_rate = 0.001\n",
        "    batch_size = 64\n",
        "\n",
        "    # Load data\n",
        "    train_loader, test_loader = load_data(batch_size)\n",
        "\n",
        "    # Create CNN model\n",
        "    model = CNN()\n",
        "\n",
        "    # Loss function and optimizer\n",
        "    criterion = nn.CrossEntropyLoss()\n",
        "    optimizer = optim.Adam(model.parameters(), lr=learning_rate)\n",
        "\n",
        "    # Train the model\n",
        "    train_loss = train_model(model, train_loader, criterion, optimizer, num_epochs)\n",
        "\n",
        "    # Test the model\n",
        "    accuracy = test_model(model, test_loader)\n",
        "\n",
        "    # Plot the training loss\n",
        "    plot_loss(train_loss)\n"
      ],
      "metadata": {
        "colab": {
          "base_uri": "https://localhost:8080/",
          "height": 576
        },
        "id": "jE8eC04U7alZ",
        "outputId": "eeedc262-a567-4422-f6fe-379e08dbec9c"
      },
      "execution_count": 32,
      "outputs": [
        {
          "output_type": "stream",
          "name": "stdout",
          "text": [
            "Epoch [1/5], Loss: 0.1773\n",
            "Epoch [2/5], Loss: 0.0510\n",
            "Epoch [3/5], Loss: 0.0356\n",
            "Epoch [4/5], Loss: 0.0257\n",
            "Epoch [5/5], Loss: 0.0196\n",
            "Test Accuracy: 99.08%\n"
          ]
        },
        {
          "output_type": "display_data",
          "data": {
            "text/plain": [
              "<Figure size 640x480 with 1 Axes>"
            ],
            "image/png": "[encoded data removed]"
          },
          "metadata": {}
        }
      ]
    },
    {
      "cell_type": "code",
      "source": [
        "# Import necessary libraries\n",
        "import torch\n",
        "import torch.nn as nn\n",
        "import torch.optim as optim\n",
        "from torchvision import datasets, transforms\n",
        "from torch.utils.data import DataLoader\n",
        "import matplotlib.pyplot as plt\n",
        "\n",
        "# Define the CNN model using nn.Sequential for simplicity\n",
        "class CNN(nn.Module):\n",
        "    def __init__(self):\n",
        "        super(CNN, self).__init__()\n",
        "        self.model = nn.Sequential(\n",
        "            nn.Conv2d(in_channels=1, out_channels=32, kernel_size=3, padding=1),\n",
        "            nn.ReLU(),\n",
        "            nn.MaxPool2d(kernel_size=2, stride=2),\n",
        "            nn.Conv2d(in_channels=32, out_channels=64, kernel_size=3, padding=1),\n",
        "            nn.ReLU(),\n",
        "            nn.MaxPool2d(kernel_size=2, stride=2),\n",
        "            nn.Flatten(),\n",
        "            nn.Linear(64 * 7 * 7, 128),\n",
        "            nn.ReLU(),\n",
        "            nn.Linear(128, 10)\n",
        "        )\n",
        "\n",
        "    def forward(self, x):\n",
        "        return self.model(x)\n",
        "\n",
        "# Load MNIST data using PyTorch's DataLoader\n",
        "def load_data(batch_size=64):\n",
        "    transform = transforms.Compose([transforms.ToTensor()])\n",
        "\n",
        "    train_dataset = datasets.MNIST(root='./data', train=True, download=True, transform=transform)\n",
        "    test_dataset = datasets.MNIST(root='./data', train=False, download=True, transform=transform)\n",
        "\n",
        "    train_loader = DataLoader(dataset=train_dataset, batch_size=batch_size, shuffle=True)\n",
        "    test_loader = DataLoader(dataset=test_dataset, batch_size=batch_size, shuffle=False)\n",
        "\n",
        "    return train_loader, test_loader\n",
        "\n",
        "# Train the CNN model\n",
        "def train_model(model, train_loader, criterion, optimizer, num_epochs=5):\n",
        "    train_loss = []\n",
        "    for epoch in range(num_epochs):\n",
        "        running_loss = 0.0\n",
        "        for images, labels in train_loader:\n",
        "            optimizer.zero_grad()\n",
        "            outputs = model(images)\n",
        "            loss = criterion(outputs, labels)\n",
        "            loss.backward()\n",
        "            optimizer.step()\n",
        "            running_loss += loss.item()\n",
        "\n",
        "        avg_loss = running_loss / len(train_loader)\n",
        "        train_loss.append(avg_loss)\n",
        "        print(f'Epoch [{epoch + 1}/{num_epochs}], Loss: {avg_loss:.4f}')\n",
        "\n",
        "    return train_loss\n",
        "\n",
        "# Test the CNN model and return accuracy\n",
        "def test_model(model, test_loader):\n",
        "    correct = 0\n",
        "    total = 0\n",
        "    with torch.no_grad():\n",
        "        for images, labels in test_loader:\n",
        "            outputs = model(images)\n",
        "            _, predicted = torch.max(outputs.data, 1)\n",
        "            total += labels.size(0)\n",
        "            correct += (predicted == labels).sum().item()\n",
        "\n",
        "    accuracy = 100 * correct / total\n",
        "    print(f'Accuracy of the model on the test set: {accuracy:.2f}%')\n",
        "    return accuracy\n",
        "\n",
        "# Visualize the training loss\n",
        "def plot_loss(train_loss):\n",
        "    plt.plot(train_loss)\n",
        "    plt.title('Training Loss')\n",
        "    plt.xlabel('Epoch')\n",
        "    plt.ylabel('Loss')\n",
        "    plt.show()\n",
        "\n",
        "# Main function to execute the training and testing\n",
        "def main():\n",
        "    batch_size = 64\n",
        "    num_epochs = 5\n",
        "    learning_rate = 0.001\n",
        "\n",
        "    train_loader, test_loader = load_data(batch_size)\n",
        "\n",
        "    model = CNN()\n",
        "    criterion = nn.CrossEntropyLoss()\n",
        "    optimizer = optim.Adam(model.parameters(), lr=learning_rate)\n",
        "\n",
        "    # Train the model\n",
        "    train_loss = train_model(model, train_loader, criterion, optimizer, num_epochs)\n",
        "\n",
        "    # Test the model\n",
        "    accuracy = test_model(model, test_loader)\n",
        "\n",
        "    # Plot the training loss\n",
        "    plot_loss(train_loss)\n",
        "\n",
        "if __name__ == '__main__':\n",
        "    main()\n"
      ],
      "metadata": {
        "colab": {
          "base_uri": "https://localhost:8080/",
          "height": 576
        },
        "id": "Rb3FHbPs8gHd",
        "outputId": "0b6d4a62-3aee-4431-c650-6ce6a68ba2b0"
      },
      "execution_count": 33,
      "outputs": [
        {
          "output_type": "stream",
          "name": "stdout",
          "text": [
            "Epoch [1/5], Loss: 0.1620\n",
            "Epoch [2/5], Loss: 0.0499\n",
            "Epoch [3/5], Loss: 0.0341\n",
            "Epoch [4/5], Loss: 0.0244\n",
            "Epoch [5/5], Loss: 0.0186\n",
            "Accuracy of the model on the test set: 99.03%\n"
          ]
        },
        {
          "output_type": "display_data",
          "data": {
            "text/plain": [
              "<Figure size 640x480 with 1 Axes>"
            ],
            "image/png": "[encoded data removed]"
          },
          "metadata": {}
        }
      ]
    },
    {
      "cell_type": "code",
      "source": [],
      "metadata": {
        "id": "wvz1xZab-Ptz"
      },
      "execution_count": null,
      "outputs": []
    }
  ]
}